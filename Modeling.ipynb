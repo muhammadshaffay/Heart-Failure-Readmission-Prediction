{
 "cells": [
  {
   "cell_type": "markdown",
   "id": "1f66710e",
   "metadata": {},
   "source": [
    "## Installations"
   ]
  },
  {
   "cell_type": "code",
   "execution_count": 1,
   "id": "JNjAy-yOf_F8",
   "metadata": {
    "colab": {
     "base_uri": "https://localhost:8080/"
    },
    "id": "JNjAy-yOf_F8",
    "outputId": "7605c678-5f59-43d6-ada4-97126b0a8d1f"
   },
   "outputs": [
    {
     "name": "stdout",
     "output_type": "stream",
     "text": [
      "Requirement already satisfied: imbalanced-learn in c:\\users\\shafay\\anaconda3\\lib\\site-packages (0.10.1)\n",
      "Requirement already satisfied: joblib>=1.1.1 in c:\\users\\shafay\\anaconda3\\lib\\site-packages (from imbalanced-learn) (1.2.0)\n",
      "Requirement already satisfied: scipy>=1.3.2 in c:\\users\\shafay\\anaconda3\\lib\\site-packages (from imbalanced-learn) (1.7.3)\n",
      "Requirement already satisfied: threadpoolctl>=2.0.0 in c:\\users\\shafay\\anaconda3\\lib\\site-packages (from imbalanced-learn) (2.2.0)\n",
      "Requirement already satisfied: scikit-learn>=1.0.2 in c:\\users\\shafay\\anaconda3\\lib\\site-packages (from imbalanced-learn) (1.0.2)\n",
      "Requirement already satisfied: numpy>=1.17.3 in c:\\users\\shafay\\anaconda3\\lib\\site-packages (from imbalanced-learn) (1.21.5)\n"
     ]
    }
   ],
   "source": [
    "!pip install imbalanced-learn"
   ]
  },
  {
   "cell_type": "code",
   "execution_count": 2,
   "id": "e21d7ded",
   "metadata": {},
   "outputs": [
    {
     "name": "stdout",
     "output_type": "stream",
     "text": [
      "Requirement already satisfied: xgboost in c:\\users\\shafay\\anaconda3\\lib\\site-packages (1.7.5)\n",
      "Requirement already satisfied: scipy in c:\\users\\shafay\\anaconda3\\lib\\site-packages (from xgboost) (1.7.3)\n",
      "Requirement already satisfied: numpy in c:\\users\\shafay\\anaconda3\\lib\\site-packages (from xgboost) (1.21.5)\n"
     ]
    }
   ],
   "source": [
    "! pip install xgboost"
   ]
  },
  {
   "cell_type": "markdown",
   "id": "CejZJzXLZsjV",
   "metadata": {
    "id": "CejZJzXLZsjV"
   },
   "source": [
    "## Include Libraries"
   ]
  },
  {
   "cell_type": "code",
   "execution_count": 3,
   "id": "6HwVc3sRfAnt",
   "metadata": {
    "id": "6HwVc3sRfAnt"
   },
   "outputs": [],
   "source": [
    "import nltk\n",
    "import pandas as pd\n",
    "import numpy as np\n",
    "import matplotlib.pyplot as plt\n",
    "\n",
    "from sklearn.preprocessing import StandardScaler\n",
    "from sklearn.preprocessing import MinMaxScaler\n",
    "\n",
    "from sklearn.preprocessing import LabelEncoder\n",
    "from sklearn.model_selection import train_test_split\n",
    "\n",
    "import imblearn\n",
    "from imblearn.over_sampling import SMOTE\n",
    "\n",
    "from sklearn.metrics import confusion_matrix\n",
    "from sklearn.metrics import accuracy_score\n",
    "from sklearn.metrics import f1_score\n",
    "from sklearn.metrics import classification_report \n",
    "\n",
    "import statistics"
   ]
  },
  {
   "cell_type": "code",
   "execution_count": 4,
   "id": "ea2d6895",
   "metadata": {},
   "outputs": [],
   "source": [
    "import warnings\n",
    "\n",
    "# Ignore all warnings\n",
    "warnings.filterwarnings(\"ignore\")"
   ]
  },
  {
   "cell_type": "markdown",
   "id": "8r9ZR8qeZ7YO",
   "metadata": {
    "id": "8r9ZR8qeZ7YO"
   },
   "source": [
    "## Read Files"
   ]
  },
  {
   "cell_type": "code",
   "execution_count": 5,
   "id": "PYLzfbYAQAmY",
   "metadata": {
    "colab": {
     "base_uri": "https://localhost:8080/"
    },
    "id": "PYLzfbYAQAmY",
    "outputId": "92cc8f7f-ef04-46be-f820-48afccd84b41"
   },
   "outputs": [
    {
     "data": {
      "text/plain": [
       "(2121, 57)"
      ]
     },
     "execution_count": 5,
     "metadata": {},
     "output_type": "execute_result"
    }
   ],
   "source": [
    "# Test Files\n",
    "test_data = pd.read_excel(r\"./datafiles/Testing Data.xlsx\")\n",
    "test_data.shape "
   ]
  },
  {
   "cell_type": "code",
   "execution_count": 6,
   "id": "04a513aa",
   "metadata": {
    "colab": {
     "base_uri": "https://localhost:8080/"
    },
    "id": "04a513aa",
    "outputId": "99e9cff7-5896-4e3e-f6fd-311ceec298a9"
   },
   "outputs": [
    {
     "data": {
      "text/plain": [
       "(8481, 58)"
      ]
     },
     "execution_count": 6,
     "metadata": {},
     "output_type": "execute_result"
    }
   ],
   "source": [
    "# Train Files\n",
    "train_data = pd.read_excel(r\"./datafiles/Training Data.xlsx\")\n",
    "train_data.shape "
   ]
  },
  {
   "cell_type": "code",
   "execution_count": 7,
   "id": "c52a285b",
   "metadata": {},
   "outputs": [
    {
     "data": {
      "text/plain": [
       "(59, 3)"
      ]
     },
     "execution_count": 7,
     "metadata": {},
     "output_type": "execute_result"
    }
   ],
   "source": [
    "features = pd.read_excel(r\"./datafiles/Feature Description.xlsx\")\n",
    "features.shape "
   ]
  },
  {
   "cell_type": "markdown",
   "id": "ce59df11",
   "metadata": {},
   "source": [
    "\t\t\t\t\t\t\t\t\t\t\t\t\t\tTraining Data"
   ]
  },
  {
   "cell_type": "markdown",
   "id": "g8V-xhvlaDOO",
   "metadata": {
    "id": "g8V-xhvlaDOO"
   },
   "source": [
    "## Analysis"
   ]
  },
  {
   "cell_type": "code",
   "execution_count": 8,
   "id": "bb7745af",
   "metadata": {
    "colab": {
     "base_uri": "https://localhost:8080/",
     "height": 505
    },
    "id": "bb7745af",
    "outputId": "e67c18b5-663f-42fc-919d-95f669d0c477"
   },
   "outputs": [
    {
     "data": {
      "text/html": [
       "<div>\n",
       "<style scoped>\n",
       "    .dataframe tbody tr th:only-of-type {\n",
       "        vertical-align: middle;\n",
       "    }\n",
       "\n",
       "    .dataframe tbody tr th {\n",
       "        vertical-align: top;\n",
       "    }\n",
       "\n",
       "    .dataframe thead th {\n",
       "        text-align: right;\n",
       "    }\n",
       "</style>\n",
       "<table border=\"1\" class=\"dataframe\">\n",
       "  <thead>\n",
       "    <tr style=\"text-align: right;\">\n",
       "      <th></th>\n",
       "      <th>PatientId</th>\n",
       "      <th>EncounterId</th>\n",
       "      <th>DischargeDisposision</th>\n",
       "      <th>Gender</th>\n",
       "      <th>Race</th>\n",
       "      <th>DiabetesMellitus</th>\n",
       "      <th>ChronicKidneyDisease</th>\n",
       "      <th>Anemia</th>\n",
       "      <th>Depression</th>\n",
       "      <th>ChronicObstructivePulmonaryDisease</th>\n",
       "      <th>...</th>\n",
       "      <th>Diuretics</th>\n",
       "      <th>TotalMedicine</th>\n",
       "      <th>CardiacTroponin</th>\n",
       "      <th>Hemoglobin</th>\n",
       "      <th>SerumSodium</th>\n",
       "      <th>SerumCreatinine</th>\n",
       "      <th>BNP</th>\n",
       "      <th>NT-proBNP</th>\n",
       "      <th>ReadmissionDays</th>\n",
       "      <th>ReadmissionWithin_90Days</th>\n",
       "    </tr>\n",
       "  </thead>\n",
       "  <tbody>\n",
       "    <tr>\n",
       "      <th>0</th>\n",
       "      <td>4200412</td>\n",
       "      <td>199171333</td>\n",
       "      <td>Home</td>\n",
       "      <td>Male</td>\n",
       "      <td>White</td>\n",
       "      <td>DM</td>\n",
       "      <td>NaN</td>\n",
       "      <td>Anemia</td>\n",
       "      <td>NaN</td>\n",
       "      <td>COPD</td>\n",
       "      <td>...</td>\n",
       "      <td>0</td>\n",
       "      <td>0</td>\n",
       "      <td>0.0</td>\n",
       "      <td>0.00</td>\n",
       "      <td>0.0</td>\n",
       "      <td>0.000000</td>\n",
       "      <td>0.0</td>\n",
       "      <td>0.0</td>\n",
       "      <td>5.0</td>\n",
       "      <td>Yes</td>\n",
       "    </tr>\n",
       "    <tr>\n",
       "      <th>1</th>\n",
       "      <td>4055894</td>\n",
       "      <td>26704337</td>\n",
       "      <td>Home</td>\n",
       "      <td>Male</td>\n",
       "      <td>White</td>\n",
       "      <td>DM</td>\n",
       "      <td>CKD</td>\n",
       "      <td>Anemia</td>\n",
       "      <td>Depression</td>\n",
       "      <td>COPD</td>\n",
       "      <td>...</td>\n",
       "      <td>5</td>\n",
       "      <td>8</td>\n",
       "      <td>0.0</td>\n",
       "      <td>0.00</td>\n",
       "      <td>0.0</td>\n",
       "      <td>1.540000</td>\n",
       "      <td>0.0</td>\n",
       "      <td>0.0</td>\n",
       "      <td>NaN</td>\n",
       "      <td>No</td>\n",
       "    </tr>\n",
       "    <tr>\n",
       "      <th>2</th>\n",
       "      <td>4867407</td>\n",
       "      <td>60388216</td>\n",
       "      <td>Home</td>\n",
       "      <td>Male</td>\n",
       "      <td>White</td>\n",
       "      <td>DM</td>\n",
       "      <td>CKD</td>\n",
       "      <td>Anemia</td>\n",
       "      <td>NaN</td>\n",
       "      <td>COPD</td>\n",
       "      <td>...</td>\n",
       "      <td>1</td>\n",
       "      <td>2</td>\n",
       "      <td>0.0</td>\n",
       "      <td>10.20</td>\n",
       "      <td>0.0</td>\n",
       "      <td>0.000000</td>\n",
       "      <td>0.0</td>\n",
       "      <td>0.0</td>\n",
       "      <td>NaN</td>\n",
       "      <td>No</td>\n",
       "    </tr>\n",
       "    <tr>\n",
       "      <th>3</th>\n",
       "      <td>4058064</td>\n",
       "      <td>274642265</td>\n",
       "      <td>Hospice - Home</td>\n",
       "      <td>Female</td>\n",
       "      <td>White</td>\n",
       "      <td>DM</td>\n",
       "      <td>NaN</td>\n",
       "      <td>Anemia</td>\n",
       "      <td>NaN</td>\n",
       "      <td>COPD</td>\n",
       "      <td>...</td>\n",
       "      <td>0</td>\n",
       "      <td>0</td>\n",
       "      <td>0.0</td>\n",
       "      <td>0.00</td>\n",
       "      <td>132.0</td>\n",
       "      <td>0.000000</td>\n",
       "      <td>0.0</td>\n",
       "      <td>0.0</td>\n",
       "      <td>NaN</td>\n",
       "      <td>No</td>\n",
       "    </tr>\n",
       "    <tr>\n",
       "      <th>4</th>\n",
       "      <td>4150623</td>\n",
       "      <td>70000001557327</td>\n",
       "      <td>SNF</td>\n",
       "      <td>Female</td>\n",
       "      <td>White</td>\n",
       "      <td>NaN</td>\n",
       "      <td>NaN</td>\n",
       "      <td>Anemia</td>\n",
       "      <td>NaN</td>\n",
       "      <td>COPD</td>\n",
       "      <td>...</td>\n",
       "      <td>0</td>\n",
       "      <td>0</td>\n",
       "      <td>0.0</td>\n",
       "      <td>7.26</td>\n",
       "      <td>0.0</td>\n",
       "      <td>0.000000</td>\n",
       "      <td>0.0</td>\n",
       "      <td>0.0</td>\n",
       "      <td>NaN</td>\n",
       "      <td>No</td>\n",
       "    </tr>\n",
       "    <tr>\n",
       "      <th>...</th>\n",
       "      <td>...</td>\n",
       "      <td>...</td>\n",
       "      <td>...</td>\n",
       "      <td>...</td>\n",
       "      <td>...</td>\n",
       "      <td>...</td>\n",
       "      <td>...</td>\n",
       "      <td>...</td>\n",
       "      <td>...</td>\n",
       "      <td>...</td>\n",
       "      <td>...</td>\n",
       "      <td>...</td>\n",
       "      <td>...</td>\n",
       "      <td>...</td>\n",
       "      <td>...</td>\n",
       "      <td>...</td>\n",
       "      <td>...</td>\n",
       "      <td>...</td>\n",
       "      <td>...</td>\n",
       "      <td>...</td>\n",
       "      <td>...</td>\n",
       "    </tr>\n",
       "    <tr>\n",
       "      <th>8476</th>\n",
       "      <td>4152524</td>\n",
       "      <td>40004415567</td>\n",
       "      <td>Home Health</td>\n",
       "      <td>Female</td>\n",
       "      <td>White</td>\n",
       "      <td>DM</td>\n",
       "      <td>CKD</td>\n",
       "      <td>Anemia</td>\n",
       "      <td>NaN</td>\n",
       "      <td>COPD</td>\n",
       "      <td>...</td>\n",
       "      <td>3</td>\n",
       "      <td>6</td>\n",
       "      <td>0.0</td>\n",
       "      <td>0.00</td>\n",
       "      <td>0.0</td>\n",
       "      <td>1.076667</td>\n",
       "      <td>0.0</td>\n",
       "      <td>0.0</td>\n",
       "      <td>3.0</td>\n",
       "      <td>Yes</td>\n",
       "    </tr>\n",
       "    <tr>\n",
       "      <th>8477</th>\n",
       "      <td>4042227</td>\n",
       "      <td>14347947026</td>\n",
       "      <td>SNF</td>\n",
       "      <td>Male</td>\n",
       "      <td>White</td>\n",
       "      <td>DM</td>\n",
       "      <td>CKD</td>\n",
       "      <td>NaN</td>\n",
       "      <td>Depression</td>\n",
       "      <td>COPD</td>\n",
       "      <td>...</td>\n",
       "      <td>0</td>\n",
       "      <td>0</td>\n",
       "      <td>0.0</td>\n",
       "      <td>0.00</td>\n",
       "      <td>0.0</td>\n",
       "      <td>0.000000</td>\n",
       "      <td>0.0</td>\n",
       "      <td>0.0</td>\n",
       "      <td>2.0</td>\n",
       "      <td>Yes</td>\n",
       "    </tr>\n",
       "    <tr>\n",
       "      <th>8478</th>\n",
       "      <td>4603405</td>\n",
       "      <td>67117733</td>\n",
       "      <td>Hospice</td>\n",
       "      <td>Female</td>\n",
       "      <td>White</td>\n",
       "      <td>NaN</td>\n",
       "      <td>NaN</td>\n",
       "      <td>NaN</td>\n",
       "      <td>NaN</td>\n",
       "      <td>NaN</td>\n",
       "      <td>...</td>\n",
       "      <td>0</td>\n",
       "      <td>1</td>\n",
       "      <td>0.0</td>\n",
       "      <td>0.00</td>\n",
       "      <td>0.0</td>\n",
       "      <td>0.000000</td>\n",
       "      <td>0.0</td>\n",
       "      <td>0.0</td>\n",
       "      <td>NaN</td>\n",
       "      <td>No</td>\n",
       "    </tr>\n",
       "    <tr>\n",
       "      <th>8479</th>\n",
       "      <td>4033677</td>\n",
       "      <td>68564389</td>\n",
       "      <td>Home</td>\n",
       "      <td>Female</td>\n",
       "      <td>White</td>\n",
       "      <td>DM</td>\n",
       "      <td>CKD</td>\n",
       "      <td>NaN</td>\n",
       "      <td>Depression</td>\n",
       "      <td>NaN</td>\n",
       "      <td>...</td>\n",
       "      <td>1</td>\n",
       "      <td>5</td>\n",
       "      <td>0.0</td>\n",
       "      <td>0.00</td>\n",
       "      <td>0.0</td>\n",
       "      <td>1.690000</td>\n",
       "      <td>0.0</td>\n",
       "      <td>0.0</td>\n",
       "      <td>68.0</td>\n",
       "      <td>Yes</td>\n",
       "    </tr>\n",
       "    <tr>\n",
       "      <th>8480</th>\n",
       "      <td>4036902</td>\n",
       "      <td>1452511275</td>\n",
       "      <td>Home</td>\n",
       "      <td>Male</td>\n",
       "      <td>White</td>\n",
       "      <td>NaN</td>\n",
       "      <td>CKD</td>\n",
       "      <td>Anemia</td>\n",
       "      <td>NaN</td>\n",
       "      <td>NaN</td>\n",
       "      <td>...</td>\n",
       "      <td>0</td>\n",
       "      <td>0</td>\n",
       "      <td>0.0</td>\n",
       "      <td>0.00</td>\n",
       "      <td>0.0</td>\n",
       "      <td>0.000000</td>\n",
       "      <td>0.0</td>\n",
       "      <td>0.0</td>\n",
       "      <td>172.0</td>\n",
       "      <td>No</td>\n",
       "    </tr>\n",
       "  </tbody>\n",
       "</table>\n",
       "<p>8481 rows × 58 columns</p>\n",
       "</div>"
      ],
      "text/plain": [
       "      PatientId     EncounterId DischargeDisposision  Gender   Race  \\\n",
       "0       4200412       199171333                 Home    Male  White   \n",
       "1       4055894        26704337                 Home    Male  White   \n",
       "2       4867407        60388216                 Home    Male  White   \n",
       "3       4058064       274642265       Hospice - Home  Female  White   \n",
       "4       4150623  70000001557327                  SNF  Female  White   \n",
       "...         ...             ...                  ...     ...    ...   \n",
       "8476    4152524     40004415567          Home Health  Female  White   \n",
       "8477    4042227     14347947026                  SNF    Male  White   \n",
       "8478    4603405        67117733              Hospice  Female  White   \n",
       "8479    4033677        68564389                 Home  Female  White   \n",
       "8480    4036902      1452511275                 Home    Male  White   \n",
       "\n",
       "     DiabetesMellitus ChronicKidneyDisease  Anemia  Depression   \\\n",
       "0                  DM                  NaN  Anemia          NaN   \n",
       "1                  DM                  CKD  Anemia  Depression    \n",
       "2                  DM                  CKD  Anemia          NaN   \n",
       "3                  DM                  NaN  Anemia          NaN   \n",
       "4                 NaN                  NaN  Anemia          NaN   \n",
       "...               ...                  ...     ...          ...   \n",
       "8476               DM                  CKD  Anemia          NaN   \n",
       "8477               DM                  CKD     NaN  Depression    \n",
       "8478              NaN                  NaN     NaN          NaN   \n",
       "8479               DM                  CKD     NaN  Depression    \n",
       "8480              NaN                  CKD  Anemia          NaN   \n",
       "\n",
       "     ChronicObstructivePulmonaryDisease  ...  Diuretics  TotalMedicine  \\\n",
       "0                                  COPD  ...          0              0   \n",
       "1                                  COPD  ...          5              8   \n",
       "2                                  COPD  ...          1              2   \n",
       "3                                  COPD  ...          0              0   \n",
       "4                                  COPD  ...          0              0   \n",
       "...                                 ...  ...        ...            ...   \n",
       "8476                               COPD  ...          3              6   \n",
       "8477                               COPD  ...          0              0   \n",
       "8478                                NaN  ...          0              1   \n",
       "8479                                NaN  ...          1              5   \n",
       "8480                                NaN  ...          0              0   \n",
       "\n",
       "      CardiacTroponin  Hemoglobin  SerumSodium  SerumCreatinine  BNP  \\\n",
       "0                 0.0        0.00          0.0         0.000000  0.0   \n",
       "1                 0.0        0.00          0.0         1.540000  0.0   \n",
       "2                 0.0       10.20          0.0         0.000000  0.0   \n",
       "3                 0.0        0.00        132.0         0.000000  0.0   \n",
       "4                 0.0        7.26          0.0         0.000000  0.0   \n",
       "...               ...         ...          ...              ...  ...   \n",
       "8476              0.0        0.00          0.0         1.076667  0.0   \n",
       "8477              0.0        0.00          0.0         0.000000  0.0   \n",
       "8478              0.0        0.00          0.0         0.000000  0.0   \n",
       "8479              0.0        0.00          0.0         1.690000  0.0   \n",
       "8480              0.0        0.00          0.0         0.000000  0.0   \n",
       "\n",
       "      NT-proBNP  ReadmissionDays  ReadmissionWithin_90Days  \n",
       "0           0.0              5.0                       Yes  \n",
       "1           0.0              NaN                        No  \n",
       "2           0.0              NaN                        No  \n",
       "3           0.0              NaN                        No  \n",
       "4           0.0              NaN                        No  \n",
       "...         ...              ...                       ...  \n",
       "8476        0.0              3.0                       Yes  \n",
       "8477        0.0              2.0                       Yes  \n",
       "8478        0.0              NaN                        No  \n",
       "8479        0.0             68.0                       Yes  \n",
       "8480        0.0            172.0                        No  \n",
       "\n",
       "[8481 rows x 58 columns]"
      ]
     },
     "execution_count": 8,
     "metadata": {},
     "output_type": "execute_result"
    }
   ],
   "source": [
    "train_data "
   ]
  },
  {
   "cell_type": "code",
   "execution_count": 9,
   "id": "ad982b61",
   "metadata": {
    "colab": {
     "base_uri": "https://localhost:8080/"
    },
    "id": "ad982b61",
    "outputId": "d35de77a-a497-45e1-efdb-bc2dcdaa94aa"
   },
   "outputs": [
    {
     "data": {
      "text/plain": [
       "PatientId                              0.000000\n",
       "EncounterId                            0.000000\n",
       "DischargeDisposision                   0.000000\n",
       "Gender                                 0.000000\n",
       "Race                                   1.096569\n",
       "DiabetesMellitus                      45.478128\n",
       "ChronicKidneyDisease                  46.055890\n",
       "Anemia                                35.396769\n",
       "Depression                            60.228747\n",
       "ChronicObstructivePulmonaryDisease    46.621861\n",
       "Age                                    0.000000\n",
       "ChronicDiseaseCount                    0.000000\n",
       "LengthOfStay                           0.000000\n",
       "EmergencyVisit                         0.000000\n",
       "InpatientVisit                         0.000000\n",
       "OutpatientVisit                        0.000000\n",
       "TotalVisits                            0.000000\n",
       "BMIMin                                 0.000000\n",
       "BMIMax                                 0.000000\n",
       "BMIMedian                              0.000000\n",
       "BMIMean                                0.000000\n",
       "BPDiastolicMin                         0.000000\n",
       "BPDiastolicMax                         0.000000\n",
       "BPDiastolicMedian                      0.000000\n",
       "BPDiastolicMean                        0.000000\n",
       "BPSystolicMin                          0.000000\n",
       "BPSystolicMax                          0.000000\n",
       "BPSystolicMedian                       0.000000\n",
       "BPSystolicMean                         0.000000\n",
       "TemperatureMin                         0.000000\n",
       "TemperatureMax                         0.000000\n",
       "TemperatureMedian                      0.000000\n",
       "TemperatureMean                        0.000000\n",
       "HeartRateMin                           0.000000\n",
       "HeartRateMax                           0.000000\n",
       "HeartRateMedian                        0.000000\n",
       "HeartRateMean                          0.000000\n",
       "PulseRateMin                           0.000000\n",
       "PulseRateMax                           0.000000\n",
       "PulseRateMedian                        0.000000\n",
       "PulseRateMean                          0.000000\n",
       "RespiratoryRateMin                     0.000000\n",
       "RespiratoryRateMax                     0.000000\n",
       "RespiratoryRateMedian                  0.000000\n",
       "RespiratoryRateMean                    0.000000\n",
       "ACEInhibitors                          0.000000\n",
       "ARBs                                   0.000000\n",
       "BetaBlockers                           0.000000\n",
       "Diuretics                              0.000000\n",
       "TotalMedicine                          0.000000\n",
       "CardiacTroponin                        0.000000\n",
       "Hemoglobin                             0.000000\n",
       "SerumSodium                            0.000000\n",
       "SerumCreatinine                        0.000000\n",
       "BNP                                    0.000000\n",
       "NT-proBNP                              0.000000\n",
       "ReadmissionDays                       50.017687\n",
       "ReadmissionWithin_90Days               0.000000\n",
       "dtype: float64"
      ]
     },
     "execution_count": 9,
     "metadata": {},
     "output_type": "execute_result"
    }
   ],
   "source": [
    "# Null values percentages\n",
    "null_percent = train_data.isnull().sum()/train_data.shape[0]*100\n",
    "null_percent"
   ]
  },
  {
   "cell_type": "markdown",
   "id": "QeBol3fOEQVE",
   "metadata": {
    "id": "QeBol3fOEQVE"
   },
   "source": [
    "## Visualization "
   ]
  },
  {
   "cell_type": "code",
   "execution_count": 10,
   "id": "aV6O7KpmAHoL",
   "metadata": {
    "colab": {
     "base_uri": "https://localhost:8080/",
     "height": 282
    },
    "id": "aV6O7KpmAHoL",
    "outputId": "ec76a777-1929-49c2-939b-1338a7e1849a"
   },
   "outputs": [
    {
     "data": {
      "text/plain": [
       "<AxesSubplot:>"
      ]
     },
     "execution_count": 10,
     "metadata": {},
     "output_type": "execute_result"
    },
    {
     "data": {
      "image/png": "[encoded data removed]",
      "text/plain": [
       "<Figure size 640x480 with 1 Axes>"
      ]
     },
     "metadata": {},
     "output_type": "display_data"
    }
   ],
   "source": [
    "train_data['HeartRateMean'].plot()"
   ]
  },
  {
   "cell_type": "code",
   "execution_count": 11,
   "id": "K47v63OgBb16",
   "metadata": {
    "colab": {
     "base_uri": "https://localhost:8080/",
     "height": 316
    },
    "id": "K47v63OgBb16",
    "outputId": "3e188fcf-67fe-468b-d312-8c45566aa747"
   },
   "outputs": [
    {
     "data": {
      "text/plain": [
       "Text(0.5, 1.0, 'BP Relation')"
      ]
     },
     "execution_count": 11,
     "metadata": {},
     "output_type": "execute_result"
    },
    {
     "data": {
      "text/plain": [
       "<Figure size 500x500 with 0 Axes>"
      ]
     },
     "metadata": {},
     "output_type": "display_data"
    },
    {
     "data": {
      "image/png": "[encoded data removed]",
      "text/plain": [
       "<Figure size 640x480 with 1 Axes>"
      ]
     },
     "metadata": {},
     "output_type": "display_data"
    }
   ],
   "source": [
    "plt.figure(figsize=(5,5))\n",
    "x = train_data['BPDiastolicMax']\n",
    "y = train_data['BPDiastolicMin']\n",
    "\n",
    "fig, ax = plt.subplots()\n",
    "ax.plot(x, y)\n",
    "ax.set_title('BP Relation')"
   ]
  },
  {
   "cell_type": "code",
   "execution_count": 12,
   "id": "fEku9pBYDKBd",
   "metadata": {
    "colab": {
     "base_uri": "https://localhost:8080/",
     "height": 298
    },
    "id": "fEku9pBYDKBd",
    "outputId": "14faa57e-852c-4ef8-dcbf-00f855618ba2"
   },
   "outputs": [
    {
     "data": {
      "text/plain": [
       "Text(0.5, 1.0, 'heart Relation with intake of medicines')"
      ]
     },
     "execution_count": 12,
     "metadata": {},
     "output_type": "execute_result"
    },
    {
     "data": {
      "image/png": "[encoded data removed]",
      "text/plain": [
       "<Figure size 640x480 with 1 Axes>"
      ]
     },
     "metadata": {},
     "output_type": "display_data"
    }
   ],
   "source": [
    "x = train_data['TotalMedicine']\n",
    "y = train_data['HeartRateMean']\n",
    "\n",
    "fig, ax = plt.subplots()\n",
    "ax.plot(x, y)\n",
    "ax.set_title('heart Relation with intake of medicines')"
   ]
  },
  {
   "cell_type": "code",
   "execution_count": 13,
   "id": "WOfsfyPTC0Af",
   "metadata": {
    "colab": {
     "base_uri": "https://localhost:8080/",
     "height": 298
    },
    "id": "WOfsfyPTC0Af",
    "outputId": "c369a30a-2a69-4072-be66-e02ef576ecd6"
   },
   "outputs": [
    {
     "data": {
      "text/plain": [
       "Text(0.5, 1.0, 'Age Relation with changes in Haemoglobin Levels')"
      ]
     },
     "execution_count": 13,
     "metadata": {},
     "output_type": "execute_result"
    },
    {
     "data": {
      "image/png": "[encoded data removed]",
      "text/plain": [
       "<Figure size 640x480 with 1 Axes>"
      ]
     },
     "metadata": {},
     "output_type": "display_data"
    }
   ],
   "source": [
    "x = train_data['Age']\n",
    "y = train_data['Hemoglobin']\n",
    "\n",
    "fig, ax = plt.subplots()\n",
    "ax.plot(x, y)\n",
    "ax.set_title('Age Relation with changes in Haemoglobin Levels')"
   ]
  },
  {
   "cell_type": "markdown",
   "id": "7a261845",
   "metadata": {},
   "source": [
    "## Pre-Processing "
   ]
  },
  {
   "cell_type": "code",
   "execution_count": 14,
   "id": "a662fa95",
   "metadata": {
    "id": "a662fa95"
   },
   "outputs": [],
   "source": [
    "# fill nans\n",
    "train_data['DiabetesMellitus'].fillna('0',inplace=True)\n",
    "train_data['ChronicKidneyDisease'].fillna('0',inplace=True)\n",
    "train_data['Anemia'].fillna('0',inplace=True)\n",
    "train_data['Depression '].fillna('0',inplace=True)\n",
    "train_data['ChronicObstructivePulmonaryDisease'].fillna('0',inplace=True)"
   ]
  },
  {
   "cell_type": "code",
   "execution_count": 15,
   "id": "cee958f1",
   "metadata": {},
   "outputs": [],
   "source": [
    "# drop unecessary columns\n",
    "train_data.drop('Race',inplace=True,axis=1)\n",
    "train_data.drop('PatientId',inplace=True,axis=1)\n",
    "train_data.drop('EncounterId',inplace=True,axis=1)\n",
    "train_data.drop('ReadmissionDays',inplace=True,axis=1)"
   ]
  },
  {
   "cell_type": "code",
   "execution_count": 16,
   "id": "7phehx6A6bgi",
   "metadata": {
    "colab": {
     "base_uri": "https://localhost:8080/"
    },
    "id": "7phehx6A6bgi",
    "outputId": "2f80fd84-bc59-4888-a9fc-39474677fab5"
   },
   "outputs": [
    {
     "name": "stdout",
     "output_type": "stream",
     "text": [
      "ACEInhibitors 7389\n",
      "ARBs 7657\n",
      "CardiacTroponin 7574\n",
      "Hemoglobin 7437\n",
      "SerumSodium 7179\n",
      "BNP 8459\n",
      "NT-proBNP 8466\n"
     ]
    }
   ],
   "source": [
    "# columns with majority data zero\n",
    "count = 0\n",
    "\n",
    "for i in train_data.columns:\n",
    "    count = (train_data[i] == 0).sum()\n",
    "    \n",
    "    if count > 7000:\n",
    "        print(i, count)"
   ]
  },
  {
   "cell_type": "code",
   "execution_count": 17,
   "id": "9bxSLpZmDBEZ",
   "metadata": {
    "colab": {
     "base_uri": "https://localhost:8080/",
     "height": 488
    },
    "id": "9bxSLpZmDBEZ",
    "outputId": "28184256-8df7-45eb-8364-57f2b314a24a"
   },
   "outputs": [],
   "source": [
    "# Droping columns with major data as zero\n",
    "train_data.drop('ACEInhibitors', inplace=True,axis=1)\n",
    "train_data.drop('ARBs', inplace=True,axis=1)\n",
    "train_data.drop('CardiacTroponin', inplace=True,axis=1)\n",
    "train_data.drop('Hemoglobin', inplace=True,axis=1)\n",
    "train_data.drop('SerumSodium', inplace=True,axis=1)\n",
    "train_data.drop('BNP', inplace=True,axis=1)\n",
    "train_data.drop('NT-proBNP', inplace=True,axis=1)"
   ]
  },
  {
   "cell_type": "code",
   "execution_count": 18,
   "id": "5d2f337b",
   "metadata": {},
   "outputs": [
    {
     "data": {
      "text/html": [
       "<div>\n",
       "<style scoped>\n",
       "    .dataframe tbody tr th:only-of-type {\n",
       "        vertical-align: middle;\n",
       "    }\n",
       "\n",
       "    .dataframe tbody tr th {\n",
       "        vertical-align: top;\n",
       "    }\n",
       "\n",
       "    .dataframe thead th {\n",
       "        text-align: right;\n",
       "    }\n",
       "</style>\n",
       "<table border=\"1\" class=\"dataframe\">\n",
       "  <thead>\n",
       "    <tr style=\"text-align: right;\">\n",
       "      <th></th>\n",
       "      <th>DischargeDisposision</th>\n",
       "      <th>Gender</th>\n",
       "      <th>DiabetesMellitus</th>\n",
       "      <th>ChronicKidneyDisease</th>\n",
       "      <th>Anemia</th>\n",
       "      <th>Depression</th>\n",
       "      <th>ChronicObstructivePulmonaryDisease</th>\n",
       "      <th>Age</th>\n",
       "      <th>ChronicDiseaseCount</th>\n",
       "      <th>LengthOfStay</th>\n",
       "      <th>...</th>\n",
       "      <th>PulseRateMean</th>\n",
       "      <th>RespiratoryRateMin</th>\n",
       "      <th>RespiratoryRateMax</th>\n",
       "      <th>RespiratoryRateMedian</th>\n",
       "      <th>RespiratoryRateMean</th>\n",
       "      <th>BetaBlockers</th>\n",
       "      <th>Diuretics</th>\n",
       "      <th>TotalMedicine</th>\n",
       "      <th>SerumCreatinine</th>\n",
       "      <th>ReadmissionWithin_90Days</th>\n",
       "    </tr>\n",
       "  </thead>\n",
       "  <tbody>\n",
       "    <tr>\n",
       "      <th>0</th>\n",
       "      <td>Home</td>\n",
       "      <td>Male</td>\n",
       "      <td>DM</td>\n",
       "      <td>0</td>\n",
       "      <td>Anemia</td>\n",
       "      <td>0</td>\n",
       "      <td>COPD</td>\n",
       "      <td>58</td>\n",
       "      <td>18</td>\n",
       "      <td>3</td>\n",
       "      <td>...</td>\n",
       "      <td>0.000000</td>\n",
       "      <td>0</td>\n",
       "      <td>0</td>\n",
       "      <td>0.0</td>\n",
       "      <td>0.000000</td>\n",
       "      <td>0</td>\n",
       "      <td>0</td>\n",
       "      <td>0</td>\n",
       "      <td>0.000000</td>\n",
       "      <td>Yes</td>\n",
       "    </tr>\n",
       "    <tr>\n",
       "      <th>1</th>\n",
       "      <td>Home</td>\n",
       "      <td>Male</td>\n",
       "      <td>DM</td>\n",
       "      <td>CKD</td>\n",
       "      <td>Anemia</td>\n",
       "      <td>Depression</td>\n",
       "      <td>COPD</td>\n",
       "      <td>80</td>\n",
       "      <td>24</td>\n",
       "      <td>6</td>\n",
       "      <td>...</td>\n",
       "      <td>0.000000</td>\n",
       "      <td>14</td>\n",
       "      <td>22</td>\n",
       "      <td>17.5</td>\n",
       "      <td>17.833333</td>\n",
       "      <td>1</td>\n",
       "      <td>5</td>\n",
       "      <td>8</td>\n",
       "      <td>1.540000</td>\n",
       "      <td>No</td>\n",
       "    </tr>\n",
       "    <tr>\n",
       "      <th>2</th>\n",
       "      <td>Home</td>\n",
       "      <td>Male</td>\n",
       "      <td>DM</td>\n",
       "      <td>CKD</td>\n",
       "      <td>Anemia</td>\n",
       "      <td>0</td>\n",
       "      <td>COPD</td>\n",
       "      <td>63</td>\n",
       "      <td>11</td>\n",
       "      <td>8</td>\n",
       "      <td>...</td>\n",
       "      <td>0.000000</td>\n",
       "      <td>0</td>\n",
       "      <td>0</td>\n",
       "      <td>0.0</td>\n",
       "      <td>0.000000</td>\n",
       "      <td>1</td>\n",
       "      <td>1</td>\n",
       "      <td>2</td>\n",
       "      <td>0.000000</td>\n",
       "      <td>No</td>\n",
       "    </tr>\n",
       "    <tr>\n",
       "      <th>3</th>\n",
       "      <td>Hospice - Home</td>\n",
       "      <td>Female</td>\n",
       "      <td>DM</td>\n",
       "      <td>0</td>\n",
       "      <td>Anemia</td>\n",
       "      <td>0</td>\n",
       "      <td>COPD</td>\n",
       "      <td>73</td>\n",
       "      <td>8</td>\n",
       "      <td>4</td>\n",
       "      <td>...</td>\n",
       "      <td>0.000000</td>\n",
       "      <td>22</td>\n",
       "      <td>22</td>\n",
       "      <td>22.0</td>\n",
       "      <td>22.000000</td>\n",
       "      <td>0</td>\n",
       "      <td>0</td>\n",
       "      <td>0</td>\n",
       "      <td>0.000000</td>\n",
       "      <td>No</td>\n",
       "    </tr>\n",
       "    <tr>\n",
       "      <th>4</th>\n",
       "      <td>SNF</td>\n",
       "      <td>Female</td>\n",
       "      <td>0</td>\n",
       "      <td>0</td>\n",
       "      <td>Anemia</td>\n",
       "      <td>0</td>\n",
       "      <td>COPD</td>\n",
       "      <td>85</td>\n",
       "      <td>20</td>\n",
       "      <td>3</td>\n",
       "      <td>...</td>\n",
       "      <td>91.476190</td>\n",
       "      <td>14</td>\n",
       "      <td>20</td>\n",
       "      <td>17.0</td>\n",
       "      <td>17.000000</td>\n",
       "      <td>0</td>\n",
       "      <td>0</td>\n",
       "      <td>0</td>\n",
       "      <td>0.000000</td>\n",
       "      <td>No</td>\n",
       "    </tr>\n",
       "    <tr>\n",
       "      <th>...</th>\n",
       "      <td>...</td>\n",
       "      <td>...</td>\n",
       "      <td>...</td>\n",
       "      <td>...</td>\n",
       "      <td>...</td>\n",
       "      <td>...</td>\n",
       "      <td>...</td>\n",
       "      <td>...</td>\n",
       "      <td>...</td>\n",
       "      <td>...</td>\n",
       "      <td>...</td>\n",
       "      <td>...</td>\n",
       "      <td>...</td>\n",
       "      <td>...</td>\n",
       "      <td>...</td>\n",
       "      <td>...</td>\n",
       "      <td>...</td>\n",
       "      <td>...</td>\n",
       "      <td>...</td>\n",
       "      <td>...</td>\n",
       "      <td>...</td>\n",
       "    </tr>\n",
       "    <tr>\n",
       "      <th>8476</th>\n",
       "      <td>Home Health</td>\n",
       "      <td>Female</td>\n",
       "      <td>DM</td>\n",
       "      <td>CKD</td>\n",
       "      <td>Anemia</td>\n",
       "      <td>0</td>\n",
       "      <td>COPD</td>\n",
       "      <td>59</td>\n",
       "      <td>14</td>\n",
       "      <td>21</td>\n",
       "      <td>...</td>\n",
       "      <td>0.000000</td>\n",
       "      <td>9</td>\n",
       "      <td>107</td>\n",
       "      <td>26.0</td>\n",
       "      <td>32.885714</td>\n",
       "      <td>2</td>\n",
       "      <td>3</td>\n",
       "      <td>6</td>\n",
       "      <td>1.076667</td>\n",
       "      <td>Yes</td>\n",
       "    </tr>\n",
       "    <tr>\n",
       "      <th>8477</th>\n",
       "      <td>SNF</td>\n",
       "      <td>Male</td>\n",
       "      <td>DM</td>\n",
       "      <td>CKD</td>\n",
       "      <td>0</td>\n",
       "      <td>Depression</td>\n",
       "      <td>COPD</td>\n",
       "      <td>86</td>\n",
       "      <td>13</td>\n",
       "      <td>19</td>\n",
       "      <td>...</td>\n",
       "      <td>0.000000</td>\n",
       "      <td>0</td>\n",
       "      <td>0</td>\n",
       "      <td>0.0</td>\n",
       "      <td>0.000000</td>\n",
       "      <td>0</td>\n",
       "      <td>0</td>\n",
       "      <td>0</td>\n",
       "      <td>0.000000</td>\n",
       "      <td>Yes</td>\n",
       "    </tr>\n",
       "    <tr>\n",
       "      <th>8478</th>\n",
       "      <td>Hospice</td>\n",
       "      <td>Female</td>\n",
       "      <td>0</td>\n",
       "      <td>0</td>\n",
       "      <td>0</td>\n",
       "      <td>0</td>\n",
       "      <td>0</td>\n",
       "      <td>94</td>\n",
       "      <td>2</td>\n",
       "      <td>12</td>\n",
       "      <td>...</td>\n",
       "      <td>111.863636</td>\n",
       "      <td>1</td>\n",
       "      <td>22</td>\n",
       "      <td>16.0</td>\n",
       "      <td>14.904762</td>\n",
       "      <td>1</td>\n",
       "      <td>0</td>\n",
       "      <td>1</td>\n",
       "      <td>0.000000</td>\n",
       "      <td>No</td>\n",
       "    </tr>\n",
       "    <tr>\n",
       "      <th>8479</th>\n",
       "      <td>Home</td>\n",
       "      <td>Female</td>\n",
       "      <td>DM</td>\n",
       "      <td>CKD</td>\n",
       "      <td>0</td>\n",
       "      <td>Depression</td>\n",
       "      <td>0</td>\n",
       "      <td>77</td>\n",
       "      <td>19</td>\n",
       "      <td>3</td>\n",
       "      <td>...</td>\n",
       "      <td>79.666667</td>\n",
       "      <td>16</td>\n",
       "      <td>18</td>\n",
       "      <td>17.0</td>\n",
       "      <td>16.875000</td>\n",
       "      <td>1</td>\n",
       "      <td>1</td>\n",
       "      <td>5</td>\n",
       "      <td>1.690000</td>\n",
       "      <td>Yes</td>\n",
       "    </tr>\n",
       "    <tr>\n",
       "      <th>8480</th>\n",
       "      <td>Home</td>\n",
       "      <td>Male</td>\n",
       "      <td>0</td>\n",
       "      <td>CKD</td>\n",
       "      <td>Anemia</td>\n",
       "      <td>0</td>\n",
       "      <td>0</td>\n",
       "      <td>74</td>\n",
       "      <td>8</td>\n",
       "      <td>2</td>\n",
       "      <td>...</td>\n",
       "      <td>0.000000</td>\n",
       "      <td>0</td>\n",
       "      <td>0</td>\n",
       "      <td>0.0</td>\n",
       "      <td>0.000000</td>\n",
       "      <td>0</td>\n",
       "      <td>0</td>\n",
       "      <td>0</td>\n",
       "      <td>0.000000</td>\n",
       "      <td>No</td>\n",
       "    </tr>\n",
       "  </tbody>\n",
       "</table>\n",
       "<p>8481 rows × 47 columns</p>\n",
       "</div>"
      ],
      "text/plain": [
       "     DischargeDisposision  Gender DiabetesMellitus ChronicKidneyDisease  \\\n",
       "0                    Home    Male               DM                    0   \n",
       "1                    Home    Male               DM                  CKD   \n",
       "2                    Home    Male               DM                  CKD   \n",
       "3          Hospice - Home  Female               DM                    0   \n",
       "4                     SNF  Female                0                    0   \n",
       "...                   ...     ...              ...                  ...   \n",
       "8476          Home Health  Female               DM                  CKD   \n",
       "8477                  SNF    Male               DM                  CKD   \n",
       "8478              Hospice  Female                0                    0   \n",
       "8479                 Home  Female               DM                  CKD   \n",
       "8480                 Home    Male                0                  CKD   \n",
       "\n",
       "      Anemia  Depression  ChronicObstructivePulmonaryDisease  Age  \\\n",
       "0     Anemia            0                               COPD   58   \n",
       "1     Anemia  Depression                                COPD   80   \n",
       "2     Anemia            0                               COPD   63   \n",
       "3     Anemia            0                               COPD   73   \n",
       "4     Anemia            0                               COPD   85   \n",
       "...      ...          ...                                ...  ...   \n",
       "8476  Anemia            0                               COPD   59   \n",
       "8477       0  Depression                                COPD   86   \n",
       "8478       0            0                                  0   94   \n",
       "8479       0  Depression                                   0   77   \n",
       "8480  Anemia            0                                  0   74   \n",
       "\n",
       "      ChronicDiseaseCount  LengthOfStay  ...  PulseRateMean  \\\n",
       "0                      18             3  ...       0.000000   \n",
       "1                      24             6  ...       0.000000   \n",
       "2                      11             8  ...       0.000000   \n",
       "3                       8             4  ...       0.000000   \n",
       "4                      20             3  ...      91.476190   \n",
       "...                   ...           ...  ...            ...   \n",
       "8476                   14            21  ...       0.000000   \n",
       "8477                   13            19  ...       0.000000   \n",
       "8478                    2            12  ...     111.863636   \n",
       "8479                   19             3  ...      79.666667   \n",
       "8480                    8             2  ...       0.000000   \n",
       "\n",
       "      RespiratoryRateMin  RespiratoryRateMax  RespiratoryRateMedian  \\\n",
       "0                      0                   0                    0.0   \n",
       "1                     14                  22                   17.5   \n",
       "2                      0                   0                    0.0   \n",
       "3                     22                  22                   22.0   \n",
       "4                     14                  20                   17.0   \n",
       "...                  ...                 ...                    ...   \n",
       "8476                   9                 107                   26.0   \n",
       "8477                   0                   0                    0.0   \n",
       "8478                   1                  22                   16.0   \n",
       "8479                  16                  18                   17.0   \n",
       "8480                   0                   0                    0.0   \n",
       "\n",
       "      RespiratoryRateMean  BetaBlockers  Diuretics  TotalMedicine  \\\n",
       "0                0.000000             0          0              0   \n",
       "1               17.833333             1          5              8   \n",
       "2                0.000000             1          1              2   \n",
       "3               22.000000             0          0              0   \n",
       "4               17.000000             0          0              0   \n",
       "...                   ...           ...        ...            ...   \n",
       "8476            32.885714             2          3              6   \n",
       "8477             0.000000             0          0              0   \n",
       "8478            14.904762             1          0              1   \n",
       "8479            16.875000             1          1              5   \n",
       "8480             0.000000             0          0              0   \n",
       "\n",
       "      SerumCreatinine  ReadmissionWithin_90Days  \n",
       "0            0.000000                       Yes  \n",
       "1            1.540000                        No  \n",
       "2            0.000000                        No  \n",
       "3            0.000000                        No  \n",
       "4            0.000000                        No  \n",
       "...               ...                       ...  \n",
       "8476         1.076667                       Yes  \n",
       "8477         0.000000                       Yes  \n",
       "8478         0.000000                        No  \n",
       "8479         1.690000                       Yes  \n",
       "8480         0.000000                        No  \n",
       "\n",
       "[8481 rows x 47 columns]"
      ]
     },
     "execution_count": 18,
     "metadata": {},
     "output_type": "execute_result"
    }
   ],
   "source": [
    "train_data"
   ]
  },
  {
   "cell_type": "markdown",
   "id": "d97b8b24",
   "metadata": {},
   "source": [
    "\t\t\t\t\t\t\t\t\t\t\t\t\tTesting Data"
   ]
  },
  {
   "cell_type": "code",
   "execution_count": 19,
   "id": "40e3247b",
   "metadata": {},
   "outputs": [],
   "source": [
    "# Droping Least Significant Cells\n",
    "test_data.drop('ACEInhibitors', inplace=True,axis=1)\n",
    "test_data.drop('ARBs', inplace=True,axis=1)\n",
    "test_data.drop('CardiacTroponin', inplace=True,axis=1)\n",
    "test_data.drop('Hemoglobin', inplace=True,axis=1)\n",
    "test_data.drop('SerumSodium', inplace=True,axis=1)\n",
    "test_data.drop('BNP', inplace=True,axis=1)\n",
    "test_data.drop('NT-proBNP', inplace=True,axis=1)\n",
    "test_data.drop('Race',inplace=True,axis=1)\n",
    "test_data.drop('PatientId',inplace=True,axis=1)\n",
    "test_data.drop('EncounterId',inplace=True,axis=1)"
   ]
  },
  {
   "cell_type": "code",
   "execution_count": 20,
   "id": "arnKxezfIigl",
   "metadata": {
    "id": "arnKxezfIigl"
   },
   "outputs": [],
   "source": [
    "# filling nans\n",
    "test_data['DiabetesMellitus'].fillna('0',inplace=True)\n",
    "test_data['ChronicKidneyDisease'].fillna('0',inplace=True)\n",
    "test_data['Anemia'].fillna('0',inplace=True)\n",
    "test_data['Depression '].fillna('0',inplace=True)\n",
    "test_data['ChronicObstructivePulmonaryDisease'].fillna('0',inplace=True)"
   ]
  },
  {
   "cell_type": "code",
   "execution_count": 21,
   "id": "Txj7wbKVEXEK",
   "metadata": {
    "colab": {
     "base_uri": "https://localhost:8080/",
     "height": 488
    },
    "id": "Txj7wbKVEXEK",
    "outputId": "9e64bca8-628a-4aa7-c419-df01b8c4e475"
   },
   "outputs": [
    {
     "data": {
      "text/html": [
       "<div>\n",
       "<style scoped>\n",
       "    .dataframe tbody tr th:only-of-type {\n",
       "        vertical-align: middle;\n",
       "    }\n",
       "\n",
       "    .dataframe tbody tr th {\n",
       "        vertical-align: top;\n",
       "    }\n",
       "\n",
       "    .dataframe thead th {\n",
       "        text-align: right;\n",
       "    }\n",
       "</style>\n",
       "<table border=\"1\" class=\"dataframe\">\n",
       "  <thead>\n",
       "    <tr style=\"text-align: right;\">\n",
       "      <th></th>\n",
       "      <th>DischargeDisposision</th>\n",
       "      <th>Gender</th>\n",
       "      <th>DiabetesMellitus</th>\n",
       "      <th>ChronicKidneyDisease</th>\n",
       "      <th>Anemia</th>\n",
       "      <th>Depression</th>\n",
       "      <th>ChronicObstructivePulmonaryDisease</th>\n",
       "      <th>Age</th>\n",
       "      <th>ChronicDiseaseCount</th>\n",
       "      <th>LengthOfStay</th>\n",
       "      <th>...</th>\n",
       "      <th>PulseRateMean</th>\n",
       "      <th>RespiratoryRateMin</th>\n",
       "      <th>RespiratoryRateMax</th>\n",
       "      <th>RespiratoryRateMedian</th>\n",
       "      <th>RespiratoryRateMean</th>\n",
       "      <th>BetaBlockers</th>\n",
       "      <th>Diuretics</th>\n",
       "      <th>TotalMedicine</th>\n",
       "      <th>SerumCreatinine</th>\n",
       "      <th>PredictedReadmissionWithin_90Days</th>\n",
       "    </tr>\n",
       "  </thead>\n",
       "  <tbody>\n",
       "    <tr>\n",
       "      <th>0</th>\n",
       "      <td>Home</td>\n",
       "      <td>Female</td>\n",
       "      <td>0</td>\n",
       "      <td>0</td>\n",
       "      <td>0</td>\n",
       "      <td>0</td>\n",
       "      <td>COPD</td>\n",
       "      <td>66.0</td>\n",
       "      <td>6.0</td>\n",
       "      <td>3.0</td>\n",
       "      <td>...</td>\n",
       "      <td>65.833333</td>\n",
       "      <td>12.0</td>\n",
       "      <td>20.0</td>\n",
       "      <td>17.0</td>\n",
       "      <td>16.421053</td>\n",
       "      <td>0.0</td>\n",
       "      <td>0.0</td>\n",
       "      <td>1.0</td>\n",
       "      <td>0.00</td>\n",
       "      <td>0.0</td>\n",
       "    </tr>\n",
       "    <tr>\n",
       "      <th>1</th>\n",
       "      <td>Home</td>\n",
       "      <td>Female</td>\n",
       "      <td>DM</td>\n",
       "      <td>CKD</td>\n",
       "      <td>Anemia</td>\n",
       "      <td>Depression</td>\n",
       "      <td>0</td>\n",
       "      <td>86.0</td>\n",
       "      <td>21.0</td>\n",
       "      <td>1.0</td>\n",
       "      <td>...</td>\n",
       "      <td>0.000000</td>\n",
       "      <td>0.0</td>\n",
       "      <td>0.0</td>\n",
       "      <td>0.0</td>\n",
       "      <td>0.000000</td>\n",
       "      <td>0.0</td>\n",
       "      <td>0.0</td>\n",
       "      <td>0.0</td>\n",
       "      <td>0.00</td>\n",
       "      <td>1.0</td>\n",
       "    </tr>\n",
       "    <tr>\n",
       "      <th>2</th>\n",
       "      <td>Home</td>\n",
       "      <td>Male</td>\n",
       "      <td>DM</td>\n",
       "      <td>0</td>\n",
       "      <td>Anemia</td>\n",
       "      <td>0</td>\n",
       "      <td>0</td>\n",
       "      <td>84.0</td>\n",
       "      <td>11.0</td>\n",
       "      <td>1.0</td>\n",
       "      <td>...</td>\n",
       "      <td>0.000000</td>\n",
       "      <td>0.0</td>\n",
       "      <td>0.0</td>\n",
       "      <td>0.0</td>\n",
       "      <td>0.000000</td>\n",
       "      <td>0.0</td>\n",
       "      <td>0.0</td>\n",
       "      <td>0.0</td>\n",
       "      <td>0.00</td>\n",
       "      <td>0.0</td>\n",
       "    </tr>\n",
       "    <tr>\n",
       "      <th>3</th>\n",
       "      <td>IRF</td>\n",
       "      <td>Male</td>\n",
       "      <td>DM</td>\n",
       "      <td>CKD</td>\n",
       "      <td>Anemia</td>\n",
       "      <td>Depression</td>\n",
       "      <td>COPD</td>\n",
       "      <td>77.0</td>\n",
       "      <td>21.0</td>\n",
       "      <td>12.0</td>\n",
       "      <td>...</td>\n",
       "      <td>0.000000</td>\n",
       "      <td>0.0</td>\n",
       "      <td>0.0</td>\n",
       "      <td>0.0</td>\n",
       "      <td>0.000000</td>\n",
       "      <td>0.0</td>\n",
       "      <td>0.0</td>\n",
       "      <td>0.0</td>\n",
       "      <td>0.00</td>\n",
       "      <td>1.0</td>\n",
       "    </tr>\n",
       "    <tr>\n",
       "      <th>4</th>\n",
       "      <td>Home Health</td>\n",
       "      <td>Female</td>\n",
       "      <td>DM</td>\n",
       "      <td>0</td>\n",
       "      <td>0</td>\n",
       "      <td>0</td>\n",
       "      <td>COPD</td>\n",
       "      <td>74.0</td>\n",
       "      <td>11.0</td>\n",
       "      <td>8.0</td>\n",
       "      <td>...</td>\n",
       "      <td>73.000000</td>\n",
       "      <td>10.0</td>\n",
       "      <td>40.0</td>\n",
       "      <td>18.0</td>\n",
       "      <td>20.720000</td>\n",
       "      <td>1.0</td>\n",
       "      <td>3.0</td>\n",
       "      <td>4.0</td>\n",
       "      <td>0.00</td>\n",
       "      <td>0.0</td>\n",
       "    </tr>\n",
       "    <tr>\n",
       "      <th>...</th>\n",
       "      <td>...</td>\n",
       "      <td>...</td>\n",
       "      <td>...</td>\n",
       "      <td>...</td>\n",
       "      <td>...</td>\n",
       "      <td>...</td>\n",
       "      <td>...</td>\n",
       "      <td>...</td>\n",
       "      <td>...</td>\n",
       "      <td>...</td>\n",
       "      <td>...</td>\n",
       "      <td>...</td>\n",
       "      <td>...</td>\n",
       "      <td>...</td>\n",
       "      <td>...</td>\n",
       "      <td>...</td>\n",
       "      <td>...</td>\n",
       "      <td>...</td>\n",
       "      <td>...</td>\n",
       "      <td>...</td>\n",
       "      <td>...</td>\n",
       "    </tr>\n",
       "    <tr>\n",
       "      <th>2116</th>\n",
       "      <td>Expired</td>\n",
       "      <td>Male</td>\n",
       "      <td>DM</td>\n",
       "      <td>0</td>\n",
       "      <td>0</td>\n",
       "      <td>0</td>\n",
       "      <td>COPD</td>\n",
       "      <td>77.0</td>\n",
       "      <td>17.0</td>\n",
       "      <td>25.0</td>\n",
       "      <td>...</td>\n",
       "      <td>0.000000</td>\n",
       "      <td>8.0</td>\n",
       "      <td>162.0</td>\n",
       "      <td>41.5</td>\n",
       "      <td>49.045455</td>\n",
       "      <td>1.0</td>\n",
       "      <td>2.0</td>\n",
       "      <td>4.0</td>\n",
       "      <td>1.38</td>\n",
       "      <td>0.0</td>\n",
       "    </tr>\n",
       "    <tr>\n",
       "      <th>2117</th>\n",
       "      <td>Home Health</td>\n",
       "      <td>Male</td>\n",
       "      <td>0</td>\n",
       "      <td>CKD</td>\n",
       "      <td>0</td>\n",
       "      <td>Depression</td>\n",
       "      <td>0</td>\n",
       "      <td>82.0</td>\n",
       "      <td>14.0</td>\n",
       "      <td>9.0</td>\n",
       "      <td>...</td>\n",
       "      <td>0.000000</td>\n",
       "      <td>0.0</td>\n",
       "      <td>0.0</td>\n",
       "      <td>0.0</td>\n",
       "      <td>0.000000</td>\n",
       "      <td>0.0</td>\n",
       "      <td>0.0</td>\n",
       "      <td>0.0</td>\n",
       "      <td>0.00</td>\n",
       "      <td>1.0</td>\n",
       "    </tr>\n",
       "    <tr>\n",
       "      <th>2118</th>\n",
       "      <td>ACH</td>\n",
       "      <td>Female</td>\n",
       "      <td>DM</td>\n",
       "      <td>0</td>\n",
       "      <td>0</td>\n",
       "      <td>0</td>\n",
       "      <td>COPD</td>\n",
       "      <td>67.0</td>\n",
       "      <td>17.0</td>\n",
       "      <td>6.0</td>\n",
       "      <td>...</td>\n",
       "      <td>0.000000</td>\n",
       "      <td>16.0</td>\n",
       "      <td>20.0</td>\n",
       "      <td>17.5</td>\n",
       "      <td>17.750000</td>\n",
       "      <td>1.0</td>\n",
       "      <td>2.0</td>\n",
       "      <td>3.0</td>\n",
       "      <td>1.04</td>\n",
       "      <td>1.0</td>\n",
       "    </tr>\n",
       "    <tr>\n",
       "      <th>2119</th>\n",
       "      <td>Home Health</td>\n",
       "      <td>Male</td>\n",
       "      <td>DM</td>\n",
       "      <td>CKD</td>\n",
       "      <td>Anemia</td>\n",
       "      <td>0</td>\n",
       "      <td>COPD</td>\n",
       "      <td>71.0</td>\n",
       "      <td>16.0</td>\n",
       "      <td>3.0</td>\n",
       "      <td>...</td>\n",
       "      <td>0.000000</td>\n",
       "      <td>16.0</td>\n",
       "      <td>20.0</td>\n",
       "      <td>18.0</td>\n",
       "      <td>18.000000</td>\n",
       "      <td>1.0</td>\n",
       "      <td>2.0</td>\n",
       "      <td>4.0</td>\n",
       "      <td>0.00</td>\n",
       "      <td>0.0</td>\n",
       "    </tr>\n",
       "    <tr>\n",
       "      <th>2120</th>\n",
       "      <td>Home</td>\n",
       "      <td>Female</td>\n",
       "      <td>DM</td>\n",
       "      <td>CKD</td>\n",
       "      <td>Anemia</td>\n",
       "      <td>0</td>\n",
       "      <td>0</td>\n",
       "      <td>52.0</td>\n",
       "      <td>14.0</td>\n",
       "      <td>3.0</td>\n",
       "      <td>...</td>\n",
       "      <td>0.000000</td>\n",
       "      <td>16.0</td>\n",
       "      <td>18.0</td>\n",
       "      <td>17.0</td>\n",
       "      <td>17.000000</td>\n",
       "      <td>1.0</td>\n",
       "      <td>1.0</td>\n",
       "      <td>2.0</td>\n",
       "      <td>0.00</td>\n",
       "      <td>0.0</td>\n",
       "    </tr>\n",
       "  </tbody>\n",
       "</table>\n",
       "<p>2121 rows × 47 columns</p>\n",
       "</div>"
      ],
      "text/plain": [
       "     DischargeDisposision  Gender DiabetesMellitus ChronicKidneyDisease  \\\n",
       "0                    Home  Female                0                    0   \n",
       "1                    Home  Female               DM                  CKD   \n",
       "2                    Home    Male               DM                    0   \n",
       "3                     IRF    Male               DM                  CKD   \n",
       "4             Home Health  Female               DM                    0   \n",
       "...                   ...     ...              ...                  ...   \n",
       "2116              Expired    Male               DM                    0   \n",
       "2117          Home Health    Male                0                  CKD   \n",
       "2118                  ACH  Female               DM                    0   \n",
       "2119          Home Health    Male               DM                  CKD   \n",
       "2120                 Home  Female               DM                  CKD   \n",
       "\n",
       "      Anemia  Depression  ChronicObstructivePulmonaryDisease   Age  \\\n",
       "0          0            0                               COPD  66.0   \n",
       "1     Anemia  Depression                                   0  86.0   \n",
       "2     Anemia            0                                  0  84.0   \n",
       "3     Anemia  Depression                                COPD  77.0   \n",
       "4          0            0                               COPD  74.0   \n",
       "...      ...          ...                                ...   ...   \n",
       "2116       0            0                               COPD  77.0   \n",
       "2117       0  Depression                                   0  82.0   \n",
       "2118       0            0                               COPD  67.0   \n",
       "2119  Anemia            0                               COPD  71.0   \n",
       "2120  Anemia            0                                  0  52.0   \n",
       "\n",
       "      ChronicDiseaseCount  LengthOfStay  ...  PulseRateMean  \\\n",
       "0                     6.0           3.0  ...      65.833333   \n",
       "1                    21.0           1.0  ...       0.000000   \n",
       "2                    11.0           1.0  ...       0.000000   \n",
       "3                    21.0          12.0  ...       0.000000   \n",
       "4                    11.0           8.0  ...      73.000000   \n",
       "...                   ...           ...  ...            ...   \n",
       "2116                 17.0          25.0  ...       0.000000   \n",
       "2117                 14.0           9.0  ...       0.000000   \n",
       "2118                 17.0           6.0  ...       0.000000   \n",
       "2119                 16.0           3.0  ...       0.000000   \n",
       "2120                 14.0           3.0  ...       0.000000   \n",
       "\n",
       "      RespiratoryRateMin  RespiratoryRateMax  RespiratoryRateMedian  \\\n",
       "0                   12.0                20.0                   17.0   \n",
       "1                    0.0                 0.0                    0.0   \n",
       "2                    0.0                 0.0                    0.0   \n",
       "3                    0.0                 0.0                    0.0   \n",
       "4                   10.0                40.0                   18.0   \n",
       "...                  ...                 ...                    ...   \n",
       "2116                 8.0               162.0                   41.5   \n",
       "2117                 0.0                 0.0                    0.0   \n",
       "2118                16.0                20.0                   17.5   \n",
       "2119                16.0                20.0                   18.0   \n",
       "2120                16.0                18.0                   17.0   \n",
       "\n",
       "      RespiratoryRateMean  BetaBlockers  Diuretics  TotalMedicine  \\\n",
       "0               16.421053           0.0        0.0            1.0   \n",
       "1                0.000000           0.0        0.0            0.0   \n",
       "2                0.000000           0.0        0.0            0.0   \n",
       "3                0.000000           0.0        0.0            0.0   \n",
       "4               20.720000           1.0        3.0            4.0   \n",
       "...                   ...           ...        ...            ...   \n",
       "2116            49.045455           1.0        2.0            4.0   \n",
       "2117             0.000000           0.0        0.0            0.0   \n",
       "2118            17.750000           1.0        2.0            3.0   \n",
       "2119            18.000000           1.0        2.0            4.0   \n",
       "2120            17.000000           1.0        1.0            2.0   \n",
       "\n",
       "      SerumCreatinine  PredictedReadmissionWithin_90Days  \n",
       "0                0.00                                0.0  \n",
       "1                0.00                                1.0  \n",
       "2                0.00                                0.0  \n",
       "3                0.00                                1.0  \n",
       "4                0.00                                0.0  \n",
       "...               ...                                ...  \n",
       "2116             1.38                                0.0  \n",
       "2117             0.00                                1.0  \n",
       "2118             1.04                                1.0  \n",
       "2119             0.00                                0.0  \n",
       "2120             0.00                                0.0  \n",
       "\n",
       "[2121 rows x 47 columns]"
      ]
     },
     "execution_count": 21,
     "metadata": {},
     "output_type": "execute_result"
    }
   ],
   "source": [
    "test_data"
   ]
  },
  {
   "cell_type": "markdown",
   "id": "3f54c42c",
   "metadata": {},
   "source": [
    "\t\t\t\t\t\t\t\t\t\t\t\t\t\tModeling"
   ]
  },
  {
   "cell_type": "markdown",
   "id": "6blkBbI6fnVs",
   "metadata": {
    "id": "6blkBbI6fnVs"
   },
   "source": [
    "## Encoding"
   ]
  },
  {
   "cell_type": "code",
   "execution_count": 22,
   "id": "4aa0bf97",
   "metadata": {
    "id": "4aa0bf97"
   },
   "outputs": [],
   "source": [
    "le = LabelEncoder()\n",
    "\n",
    "# Training Data\n",
    "categ = ['DischargeDisposision','Gender','DiabetesMellitus','ChronicKidneyDisease','Anemia','Depression ','ChronicObstructivePulmonaryDisease','ReadmissionWithin_90Days']\n",
    "train_data[categ] = train_data[categ].apply(le.fit_transform)\n",
    "\n",
    "# Test Data\n",
    "category=  ['DischargeDisposision','Gender','DiabetesMellitus','ChronicKidneyDisease','Anemia','Depression ','ChronicObstructivePulmonaryDisease']\n",
    "test_data[category] = test_data[category].apply(le.fit_transform)"
   ]
  },
  {
   "cell_type": "markdown",
   "id": "Z2mFr_WEf5PE",
   "metadata": {
    "id": "Z2mFr_WEf5PE"
   },
   "source": [
    "## Train-Test Split"
   ]
  },
  {
   "cell_type": "code",
   "execution_count": 23,
   "id": "D0DJyJd_LpFU",
   "metadata": {
    "id": "D0DJyJd_LpFU"
   },
   "outputs": [],
   "source": [
    "# Training Data\n",
    "X_train = train_data.drop('ReadmissionWithin_90Days',axis=1)\n",
    "y_train = train_data['ReadmissionWithin_90Days']"
   ]
  },
  {
   "cell_type": "code",
   "execution_count": 24,
   "id": "3vbjkFxIFfyQ",
   "metadata": {
    "id": "3vbjkFxIFfyQ"
   },
   "outputs": [],
   "source": [
    "# Testing Data\n",
    "X_test = test_data.drop('PredictedReadmissionWithin_90Days',axis=1)\n",
    "y_test = test_data['PredictedReadmissionWithin_90Days']"
   ]
  },
  {
   "cell_type": "markdown",
   "id": "5ad56013",
   "metadata": {},
   "source": [
    "## Scale & Balance"
   ]
  },
  {
   "cell_type": "code",
   "execution_count": 25,
   "id": "wPDTn-n6KchB",
   "metadata": {
    "id": "wPDTn-n6KchB"
   },
   "outputs": [],
   "source": [
    "# Data Balancing\n",
    "smote = SMOTE()\n",
    "X_train, y_train = smote.fit_resample(X_train,y_train)"
   ]
  },
  {
   "cell_type": "code",
   "execution_count": 26,
   "id": "HNd0PI61YzUL",
   "metadata": {
    "id": "HNd0PI61YzUL"
   },
   "outputs": [],
   "source": [
    "# Scaling\n",
    "sc = StandardScaler()\n",
    "sc.fit(X_train)\n",
    "X_train_sc = sc.transform(X_train)\n",
    "X_test_sc = sc.transform(X_test)"
   ]
  },
  {
   "cell_type": "raw",
   "id": "8ec0ad1a",
   "metadata": {},
   "source": [
    "# PCA\n",
    "from sklearn.decomposition import PCA\n",
    "\n",
    "pca = PCA(n_components=2)\n",
    "X_train_sc = pca.fit_transform(X_train)\n",
    "X_test_sc = pca.transform(X_test)"
   ]
  },
  {
   "cell_type": "raw",
   "id": "51fd3d3f",
   "metadata": {
    "id": "GU6Nj19MXbR9"
   },
   "source": [
    "# Scaling\n",
    "mm = MinMaxScaler()\n",
    "mm.fit(X_train_sc)\n",
    "X_train_sc = mm.transform(X_train_sc)\n",
    "X_test_sc = mm.transform(X_test_sc)"
   ]
  },
  {
   "cell_type": "markdown",
   "id": "d29e442d",
   "metadata": {},
   "source": [
    "\t\t\t\t\t\t\t\t\t\t\t\t\t\tModeling"
   ]
  },
  {
   "cell_type": "code",
   "execution_count": 27,
   "id": "f1f86555",
   "metadata": {},
   "outputs": [],
   "source": [
    "from sklearn.model_selection import cross_val_score"
   ]
  },
  {
   "cell_type": "code",
   "execution_count": 28,
   "id": "9f097c78",
   "metadata": {},
   "outputs": [],
   "source": [
    "from sklearn.tree import DecisionTreeClassifier\n",
    "from sklearn.ensemble import RandomForestClassifier\n",
    "from sklearn.linear_model import LogisticRegression\n",
    "import xgboost as xgb\n",
    "from sklearn.ensemble import GradientBoostingClassifier\n",
    "from sklearn.neural_network import MLPClassifier\n",
    "from sklearn.svm import SVC\n",
    "from sklearn.ensemble import VotingClassifier"
   ]
  },
  {
   "cell_type": "markdown",
   "id": "esdav-Yhedjv",
   "metadata": {
    "id": "esdav-Yhedjv"
   },
   "source": [
    "#### DecisionTreeClassifier"
   ]
  },
  {
   "cell_type": "code",
   "execution_count": 29,
   "id": "e937e07e",
   "metadata": {
    "id": "e937e07e"
   },
   "outputs": [
    {
     "name": "stdout",
     "output_type": "stream",
     "text": [
      "Accuracy :  63.17774634606318\n"
     ]
    }
   ],
   "source": [
    "dtree = DecisionTreeClassifier(max_depth=28, criterion = \"entropy\", min_samples_split=10)\n",
    "dtree.fit(X_train_sc, y_train)\n",
    "pred = dtree.predict(X_test_sc)\n",
    "\n",
    "print (\"Accuracy : \" , accuracy_score(y_test,pred)*100)  "
   ]
  },
  {
   "cell_type": "code",
   "execution_count": 30,
   "id": "b3433ce9",
   "metadata": {
    "colab": {
     "base_uri": "https://localhost:8080/"
    },
    "id": "b3433ce9",
    "outputId": "737d31e1-3efd-4220-9dbc-0fdb3822eb7c"
   },
   "outputs": [
    {
     "name": "stdout",
     "output_type": "stream",
     "text": [
      "Report : \n",
      "               precision    recall  f1-score   support\n",
      "\n",
      "         0.0       0.76      0.70      0.73      1497\n",
      "         1.0       0.39      0.47      0.43       624\n",
      "\n",
      "    accuracy                           0.63      2121\n",
      "   macro avg       0.58      0.59      0.58      2121\n",
      "weighted avg       0.65      0.63      0.64      2121\n",
      "\n",
      "F1 Score :  57.91560820610846\n",
      "Confusion Matrix :\n",
      " [[1045  452]\n",
      " [ 329  295]]\n"
     ]
    }
   ],
   "source": [
    "# Results\n",
    "print(\"Report : \\n\", classification_report(y_test, pred))\n",
    "print(\"F1 Score : \",f1_score(y_test, pred, average='macro')*100)\n",
    "print(\"Confusion Matrix :\\n\" , confusion_matrix(y_test,pred))"
   ]
  },
  {
   "cell_type": "code",
   "execution_count": 31,
   "id": "I47eJlXWSOe3",
   "metadata": {
    "id": "I47eJlXWSOe3"
   },
   "outputs": [],
   "source": [
    "#decisiontree hyperparameter tuning\n",
    "# from sklearn.model_selection import GridSearchCV\n",
    "# grid = GridSearchCV(dtree, param_grid={'criterion': ['gini', 'entropy']},cv=10,scoring='accuracy')\n",
    "# grid.fit(X_train_sc,y_train)\n",
    "# pred = grid.predict(X_test_sc)"
   ]
  },
  {
   "cell_type": "code",
   "execution_count": 32,
   "id": "QG_xWR1eSUUY",
   "metadata": {
    "id": "QG_xWR1eSUUY"
   },
   "outputs": [],
   "source": [
    "# Displaying\n",
    "# print (\"Accuracy : \" , accuracy_score(y_test,pred)*100)  \n",
    "# print(\"Report : \\n\", classification_report(y_test, pred))\n",
    "# print(\"F1 Score : \",f1_score(y_test, pred, average='macro')*100)\n",
    "# print(\"Confusion Matrix :\\n\" , confusion_matrix(y_test,pred))"
   ]
  },
  {
   "cell_type": "markdown",
   "id": "nFgs8Jj2tqFO",
   "metadata": {
    "id": "nFgs8Jj2tqFO"
   },
   "source": [
    "#### Random Forest Classifier"
   ]
  },
  {
   "cell_type": "code",
   "execution_count": 33,
   "id": "3e34f249",
   "metadata": {
    "id": "3e34f249"
   },
   "outputs": [
    {
     "name": "stdout",
     "output_type": "stream",
     "text": [
      "Accuracy :  66.57237152286658\n"
     ]
    }
   ],
   "source": [
    "rm = RandomForestClassifier(n_estimators = 10, max_depth=25, criterion = \"gini\")\n",
    "rm.fit(X_train_sc, y_train)\n",
    "pred = rm.predict(X_test_sc)\n",
    "\n",
    "print (\"Accuracy : \" , accuracy_score(y_test,pred)*100)  "
   ]
  },
  {
   "cell_type": "code",
   "execution_count": 34,
   "id": "3f2a3c6e",
   "metadata": {
    "colab": {
     "base_uri": "https://localhost:8080/"
    },
    "id": "3f2a3c6e",
    "outputId": "6e828890-b66f-4876-deae-c8e5b45ec2ce"
   },
   "outputs": [
    {
     "name": "stdout",
     "output_type": "stream",
     "text": [
      "Report : \n",
      "               precision    recall  f1-score   support\n",
      "\n",
      "         0.0       0.76      0.76      0.76      1497\n",
      "         1.0       0.43      0.44      0.43       624\n",
      "\n",
      "    accuracy                           0.67      2121\n",
      "   macro avg       0.60      0.60      0.60      2121\n",
      "weighted avg       0.67      0.67      0.67      2121\n",
      "\n",
      "F1 Score :  59.84774713988536\n",
      "Confusion Matrix :\n",
      " [[1140  357]\n",
      " [ 352  272]]\n"
     ]
    }
   ],
   "source": [
    "# Results\n",
    "print(\"Report : \\n\", classification_report(y_test, pred))\n",
    "print(\"F1 Score : \",f1_score(y_test, pred, average='macro')*100)\n",
    "print(\"Confusion Matrix :\\n\" , confusion_matrix(y_test,pred))"
   ]
  },
  {
   "cell_type": "markdown",
   "id": "PIt6Y37UuH5X",
   "metadata": {
    "id": "PIt6Y37UuH5X"
   },
   "source": [
    "#### Logistic Regression"
   ]
  },
  {
   "cell_type": "code",
   "execution_count": 35,
   "id": "2b72864a",
   "metadata": {
    "colab": {
     "base_uri": "https://localhost:8080/"
    },
    "id": "2b72864a",
    "outputId": "88dc079d-5cea-4ec4-fa0d-79d9de3d2dd6"
   },
   "outputs": [
    {
     "name": "stdout",
     "output_type": "stream",
     "text": [
      "Accuracy :  69.35407826496936\n"
     ]
    }
   ],
   "source": [
    "logit = LogisticRegression(fit_intercept=True, penalty='l2')\n",
    "logit.fit(X_train_sc, y_train)\n",
    "pred = logit.predict(X_test_sc)\n",
    "\n",
    "print (\"Accuracy : \" , accuracy_score(y_test,pred)*100) "
   ]
  },
  {
   "cell_type": "code",
   "execution_count": 36,
   "id": "4f33f94e",
   "metadata": {
    "colab": {
     "base_uri": "https://localhost:8080/"
    },
    "id": "4f33f94e",
    "outputId": "2d67daab-d3a0-4bc0-aae6-706012c9049c"
   },
   "outputs": [
    {
     "name": "stdout",
     "output_type": "stream",
     "text": [
      "Report : \n",
      "               precision    recall  f1-score   support\n",
      "\n",
      "         0.0       0.78      0.79      0.78      1497\n",
      "         1.0       0.48      0.46      0.47       624\n",
      "\n",
      "    accuracy                           0.69      2121\n",
      "   macro avg       0.63      0.62      0.63      2121\n",
      "weighted avg       0.69      0.69      0.69      2121\n",
      "\n",
      "F1 Score :  62.60618849746666\n",
      "Confusion Matrix :\n",
      " [[1186  311]\n",
      " [ 339  285]]\n"
     ]
    }
   ],
   "source": [
    "# Results\n",
    "print(\"Report : \\n\", classification_report(y_test, pred))\n",
    "print(\"F1 Score : \",f1_score(y_test, pred, average='macro')*100)\n",
    "print(\"Confusion Matrix :\\n\" , confusion_matrix(y_test,pred))"
   ]
  },
  {
   "cell_type": "markdown",
   "id": "Y1rVFy_Hdgrt",
   "metadata": {
    "id": "Y1rVFy_Hdgrt"
   },
   "source": [
    "#### XG Boost"
   ]
  },
  {
   "cell_type": "code",
   "execution_count": 37,
   "id": "b74dda2b",
   "metadata": {
    "colab": {
     "base_uri": "https://localhost:8080/"
    },
    "id": "b74dda2b",
    "outputId": "03f7db4e-dbe2-4f66-8737-d21f28d91a14"
   },
   "outputs": [
    {
     "name": "stdout",
     "output_type": "stream",
     "text": [
      "Accuracy :  65.44082979726544\n"
     ]
    }
   ],
   "source": [
    "clf4 = xgb.XGBClassifier()\n",
    "clf4.fit(X_train_sc, y_train)\n",
    "pred = clf4.predict(X_test_sc)\n",
    "\n",
    "print (\"Accuracy : \" , accuracy_score(y_test,pred)*100)  "
   ]
  },
  {
   "cell_type": "code",
   "execution_count": 38,
   "id": "339e2088",
   "metadata": {
    "colab": {
     "base_uri": "https://localhost:8080/"
    },
    "id": "339e2088",
    "outputId": "41ad6620-5d49-47fa-c57e-feb2308f2027"
   },
   "outputs": [
    {
     "name": "stdout",
     "output_type": "stream",
     "text": [
      "Report : \n",
      "               precision    recall  f1-score   support\n",
      "\n",
      "         0.0       0.78      0.71      0.74      1497\n",
      "         1.0       0.43      0.52      0.47       624\n",
      "\n",
      "    accuracy                           0.65      2121\n",
      "   macro avg       0.60      0.61      0.61      2121\n",
      "weighted avg       0.68      0.65      0.66      2121\n",
      "\n",
      "F1 Score :  60.62151270099342\n",
      "Confusion Matrix :\n",
      " [[1065  432]\n",
      " [ 301  323]]\n"
     ]
    }
   ],
   "source": [
    "# Results\n",
    "print(\"Report : \\n\", classification_report(y_test, pred))\n",
    "print(\"F1 Score : \",f1_score(y_test, pred, average='macro')*100)\n",
    "print(\"Confusion Matrix :\\n\" , confusion_matrix(y_test,pred))"
   ]
  },
  {
   "cell_type": "markdown",
   "id": "pYe5F_JVdyG4",
   "metadata": {
    "id": "pYe5F_JVdyG4"
   },
   "source": [
    "#### Gradient Boosting"
   ]
  },
  {
   "cell_type": "code",
   "execution_count": 39,
   "id": "08734a9e",
   "metadata": {
    "id": "08734a9e"
   },
   "outputs": [
    {
     "name": "stdout",
     "output_type": "stream",
     "text": [
      "Accuracy :  65.72371522866572\n"
     ]
    }
   ],
   "source": [
    "clf = GradientBoostingClassifier(n_estimators=100, learning_rate=1.0, max_depth=1, random_state=0).fit(X_train, y_train)\n",
    "pred = clf.predict(X_test)\n",
    "\n",
    "print (\"Accuracy : \" , accuracy_score(y_test,pred)*100)  "
   ]
  },
  {
   "cell_type": "code",
   "execution_count": 40,
   "id": "yTdTVM_bd7XA",
   "metadata": {
    "colab": {
     "base_uri": "https://localhost:8080/"
    },
    "id": "yTdTVM_bd7XA",
    "outputId": "863d573a-68cf-4a25-b1bc-ec13e0fb2e05"
   },
   "outputs": [
    {
     "name": "stdout",
     "output_type": "stream",
     "text": [
      "Report : \n",
      "               precision    recall  f1-score   support\n",
      "\n",
      "         0.0       0.81      0.68      0.74      1497\n",
      "         1.0       0.44      0.61      0.51       624\n",
      "\n",
      "    accuracy                           0.66      2121\n",
      "   macro avg       0.62      0.64      0.62      2121\n",
      "weighted avg       0.70      0.66      0.67      2121\n",
      "\n",
      "F1 Score :  62.43005737701124\n",
      "Confusion Matrix :\n",
      " [[1011  486]\n",
      " [ 241  383]]\n"
     ]
    }
   ],
   "source": [
    "# Results\n",
    "print(\"Report : \\n\", classification_report(y_test, pred))\n",
    "print(\"F1 Score : \",f1_score(y_test, pred, average='macro')*100)\n",
    "print(\"Confusion Matrix :\\n\" , confusion_matrix(y_test,pred))"
   ]
  },
  {
   "cell_type": "markdown",
   "id": "9tqNnwuuTS3y",
   "metadata": {
    "id": "9tqNnwuuTS3y"
   },
   "source": [
    "#### MLP Classifier"
   ]
  },
  {
   "cell_type": "code",
   "execution_count": 41,
   "id": "cwUDaYELSmg_",
   "metadata": {
    "colab": {
     "base_uri": "https://localhost:8080/"
    },
    "id": "cwUDaYELSmg_",
    "outputId": "2f20a928-ee99-4c67-c298-35a1946511d1"
   },
   "outputs": [
    {
     "name": "stdout",
     "output_type": "stream",
     "text": [
      "Accuracy :  64.87505893446487\n"
     ]
    }
   ],
   "source": [
    "mlp = MLPClassifier(random_state=1, max_iter=300).fit(X_train_sc, y_train)\n",
    "pred = mlp.predict(X_test_sc)\n",
    "\n",
    "print (\"Accuracy : \" , accuracy_score(y_test,pred)*100)  "
   ]
  },
  {
   "cell_type": "code",
   "execution_count": 42,
   "id": "tQnRlYEoS1DD",
   "metadata": {
    "colab": {
     "base_uri": "https://localhost:8080/"
    },
    "id": "tQnRlYEoS1DD",
    "outputId": "d2a600e5-2b82-43a2-8233-ad93819a5580"
   },
   "outputs": [
    {
     "name": "stdout",
     "output_type": "stream",
     "text": [
      "Report : \n",
      "               precision    recall  f1-score   support\n",
      "\n",
      "         0.0       0.78      0.70      0.74      1497\n",
      "         1.0       0.42      0.53      0.47       624\n",
      "\n",
      "    accuracy                           0.65      2121\n",
      "   macro avg       0.60      0.61      0.60      2121\n",
      "weighted avg       0.68      0.65      0.66      2121\n",
      "\n",
      "F1 Score :  60.385901181921085\n",
      "Confusion Matrix :\n",
      " [[1045  452]\n",
      " [ 293  331]]\n"
     ]
    }
   ],
   "source": [
    "# Results\n",
    "print(\"Report : \\n\", classification_report(y_test, pred))\n",
    "print(\"F1 Score : \",f1_score(y_test, pred, average='macro')*100)\n",
    "print(\"Confusion Matrix :\\n\" , confusion_matrix(y_test,pred))"
   ]
  },
  {
   "cell_type": "markdown",
   "id": "3quqZrv3TPlh",
   "metadata": {
    "id": "3quqZrv3TPlh"
   },
   "source": [
    "#### SVC Model"
   ]
  },
  {
   "cell_type": "code",
   "execution_count": 43,
   "id": "IQojtCt5S5Up",
   "metadata": {
    "id": "IQojtCt5S5Up"
   },
   "outputs": [
    {
     "name": "stdout",
     "output_type": "stream",
     "text": [
      "Accuracy :  70.72135785007072\n"
     ]
    }
   ],
   "source": [
    "svc = SVC(kernel='linear')\n",
    "svc.fit(X_train_sc,y_train)\n",
    "pred = svc.predict(X_test_sc)\n",
    "\n",
    "print (\"Accuracy : \" , accuracy_score(y_test,pred)*100)  "
   ]
  },
  {
   "cell_type": "code",
   "execution_count": 44,
   "id": "C2pbxdaXS_A7",
   "metadata": {
    "colab": {
     "base_uri": "https://localhost:8080/"
    },
    "id": "C2pbxdaXS_A7",
    "outputId": "f02bb6ce-f109-4ee5-f9f0-922eb12a4a84"
   },
   "outputs": [
    {
     "name": "stdout",
     "output_type": "stream",
     "text": [
      "Report : \n",
      "               precision    recall  f1-score   support\n",
      "\n",
      "         0.0       0.77      0.84      0.80      1497\n",
      "         1.0       0.50      0.38      0.44       624\n",
      "\n",
      "    accuracy                           0.71      2121\n",
      "   macro avg       0.63      0.61      0.62      2121\n",
      "weighted avg       0.69      0.71      0.69      2121\n",
      "\n",
      "F1 Score :  61.91297830313156\n",
      "Confusion Matrix :\n",
      " [[1260  237]\n",
      " [ 384  240]]\n"
     ]
    }
   ],
   "source": [
    "# Results\n",
    "print(\"Report : \\n\", classification_report(y_test, pred))\n",
    "print(\"F1 Score : \",f1_score(y_test, pred, average='macro')*100)\n",
    "print(\"Confusion Matrix :\\n\" , confusion_matrix(y_test,pred))"
   ]
  },
  {
   "cell_type": "markdown",
   "id": "IjlgK3hceZ9S",
   "metadata": {
    "id": "IjlgK3hceZ9S"
   },
   "source": [
    "## Hard Voting"
   ]
  },
  {
   "cell_type": "code",
   "execution_count": 47,
   "id": "uyjJ-NC2jcTb",
   "metadata": {
    "colab": {
     "base_uri": "https://localhost:8080/"
    },
    "id": "uyjJ-NC2jcTb",
    "outputId": "f9e9fc18-dfb9-409c-babf-0b127f4518c7"
   },
   "outputs": [],
   "source": [
    "def hardVoting():\n",
    "    \n",
    "    counter = 0\n",
    "    highest_accuracy = 0\n",
    "    \n",
    "    while(True): \n",
    "        \n",
    "        hv = VotingClassifier(estimators=[('rf',rm), ('xgb',clf4), ('lr',logit)], voting='hard', weights=(2,0,2))\n",
    "        hv.fit(X_train_sc, y_train)\n",
    "        pred = hv.predict(X_test_sc)\n",
    "        \n",
    "        accuracy = accuracy_score(y_test, pred) * 100\n",
    "        print (str(counter) + \" Accuracy : \" , accuracy)\n",
    "        \n",
    "        if accuracy > highest_accuracy:\n",
    "            \n",
    "            highest_accuracy = accuracy\n",
    "            predictions = pd.DataFrame(pred)\n",
    "            \n",
    "        if (accuracy > 75) or (counter > 50):\n",
    "            \n",
    "            print(\"\\n\\n\\t\\t\\tLimit Reached\")\n",
    "            predictions.to_csv(\"Predictions.csv\", index=False)\n",
    "            \n",
    "            print(\"Highest Accuracy : \", highest_accuracy)\n",
    "            break\n",
    "\n",
    "        counter += 1"
   ]
  },
  {
   "cell_type": "code",
   "execution_count": 48,
   "id": "e5455a5f",
   "metadata": {},
   "outputs": [
    {
     "name": "stdout",
     "output_type": "stream",
     "text": [
      "0 Accuracy :  72.46581801037246\n",
      "1 Accuracy :  71.52286657237153\n",
      "2 Accuracy :  72.41867043847242\n",
      "3 Accuracy :  72.32437529467232\n",
      "4 Accuracy :  72.04148986327205\n",
      "5 Accuracy :  71.66430928807166\n",
      "6 Accuracy :  72.27722772277228\n",
      "7 Accuracy :  72.7015558698727\n",
      "8 Accuracy :  72.46581801037246\n",
      "9 Accuracy :  72.93729372937293\n",
      "10 Accuracy :  71.94719471947195\n",
      "11 Accuracy :  72.32437529467232\n",
      "12 Accuracy :  72.60726072607261\n",
      "13 Accuracy :  72.37152286657236\n",
      "14 Accuracy :  71.33427628477133\n",
      "15 Accuracy :  72.46581801037246\n",
      "16 Accuracy :  72.04148986327205\n",
      "17 Accuracy :  71.9000471475719\n",
      "18 Accuracy :  72.23008015087224\n",
      "19 Accuracy :  72.04148986327205\n",
      "20 Accuracy :  72.46581801037246\n",
      "21 Accuracy :  71.8057520037718\n",
      "22 Accuracy :  72.37152286657236\n",
      "23 Accuracy :  72.32437529467232\n",
      "24 Accuracy :  72.13578500707214\n",
      "25 Accuracy :  71.9000471475719\n",
      "26 Accuracy :  72.93729372937293\n",
      "27 Accuracy :  72.65440829797265\n",
      "28 Accuracy :  72.04148986327205\n",
      "29 Accuracy :  72.04148986327205\n",
      "30 Accuracy :  72.32437529467232\n",
      "31 Accuracy :  72.74870344177275\n",
      "32 Accuracy :  71.71145685997172\n",
      "33 Accuracy :  71.9000471475719\n",
      "34 Accuracy :  72.23008015087224\n",
      "35 Accuracy :  71.99434229137199\n",
      "36 Accuracy :  71.66430928807166\n",
      "37 Accuracy :  71.8057520037718\n",
      "38 Accuracy :  72.23008015087224\n",
      "39 Accuracy :  72.51296558227251\n",
      "40 Accuracy :  71.71145685997172\n",
      "41 Accuracy :  71.85289957567186\n",
      "42 Accuracy :  72.18293257897218\n",
      "43 Accuracy :  72.56011315417256\n",
      "44 Accuracy :  71.14568599717114\n",
      "45 Accuracy :  72.04148986327205\n",
      "46 Accuracy :  72.41867043847242\n",
      "47 Accuracy :  72.74870344177275\n",
      "48 Accuracy :  71.66430928807166\n",
      "49 Accuracy :  71.9000471475719\n",
      "50 Accuracy :  71.38142385667138\n",
      "51 Accuracy :  71.14568599717114\n",
      "\n",
      "\n",
      "\t\t\tLimit Reached\n",
      "Highest Accuracy :  72.93729372937293\n"
     ]
    }
   ],
   "source": [
    "hardVoting()"
   ]
  }
 ],
 "metadata": {
  "colab": {
   "collapsed_sections": [],
   "name": "Softec2022.ipynb",
   "provenance": []
  },
  "kernelspec": {
   "display_name": "Python 3 (ipykernel)",
   "language": "python",
   "name": "python3"
  },
  "language_info": {
   "codemirror_mode": {
    "name": "ipython",
    "version": 3
   },
   "file_extension": ".py",
   "mimetype": "text/x-python",
   "name": "python",
   "nbconvert_exporter": "python",
   "pygments_lexer": "ipython3",
   "version": "3.9.12"
  }
 },
 "nbformat": 4,
 "nbformat_minor": 5
}
